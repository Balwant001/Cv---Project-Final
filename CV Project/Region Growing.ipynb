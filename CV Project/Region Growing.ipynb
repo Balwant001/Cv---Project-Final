{
 "cells": [
  {
   "cell_type": "code",
   "execution_count": 2,
   "id": "6d541be0-de70-4be2-b42e-e79f8e28b5a9",
   "metadata": {},
   "outputs": [
    {
     "name": "stdout",
     "output_type": "stream",
     "text": [
      "Collecting opencv-python\n",
      "  Downloading opencv_python-4.9.0.80-cp37-abi3-win_amd64.whl.metadata (20 kB)\n",
      "Requirement already satisfied: numpy>=1.21.2 in c:\\users\\kumar\\anaconda3\\lib\\site-packages (from opencv-python) (1.26.4)\n",
      "Downloading opencv_python-4.9.0.80-cp37-abi3-win_amd64.whl (38.6 MB)\n",
      "   ---------------------------------------- 0.0/38.6 MB ? eta -:--:--\n",
      "   ---------------------------------------- 0.0/38.6 MB ? eta -:--:--\n",
      "   ---------------------------------------- 0.0/38.6 MB ? eta -:--:--\n",
      "   ---------------------------------------- 0.0/38.6 MB 220.2 kB/s eta 0:02:56\n",
      "   ---------------------------------------- 0.1/38.6 MB 655.4 kB/s eta 0:00:59\n",
      "   ---------------------------------------- 0.2/38.6 MB 756.6 kB/s eta 0:00:51\n",
      "   ---------------------------------------- 0.3/38.6 MB 1.0 MB/s eta 0:00:39\n",
      "   ---------------------------------------- 0.3/38.6 MB 1.1 MB/s eta 0:00:37\n",
      "   ---------------------------------------- 0.4/38.6 MB 1.2 MB/s eta 0:00:34\n",
      "   ---------------------------------------- 0.5/38.6 MB 1.1 MB/s eta 0:00:36\n",
      "    --------------------------------------- 0.6/38.6 MB 1.2 MB/s eta 0:00:31\n",
      "    --------------------------------------- 0.6/38.6 MB 1.3 MB/s eta 0:00:30\n",
      "    --------------------------------------- 0.7/38.6 MB 1.3 MB/s eta 0:00:29\n",
      "    --------------------------------------- 0.9/38.6 MB 1.5 MB/s eta 0:00:26\n",
      "   - -------------------------------------- 1.0/38.6 MB 1.6 MB/s eta 0:00:24\n",
      "   - -------------------------------------- 1.1/38.6 MB 1.6 MB/s eta 0:00:23\n",
      "   - -------------------------------------- 1.3/38.6 MB 1.7 MB/s eta 0:00:22\n",
      "   - -------------------------------------- 1.4/38.6 MB 1.8 MB/s eta 0:00:21\n",
      "   - -------------------------------------- 1.5/38.6 MB 1.8 MB/s eta 0:00:21\n",
      "   - -------------------------------------- 1.7/38.6 MB 2.0 MB/s eta 0:00:19\n",
      "   - -------------------------------------- 1.8/38.6 MB 2.0 MB/s eta 0:00:19\n",
      "   -- ------------------------------------- 2.0/38.6 MB 2.1 MB/s eta 0:00:18\n",
      "   -- ------------------------------------- 2.2/38.6 MB 2.1 MB/s eta 0:00:18\n",
      "   -- ------------------------------------- 2.4/38.6 MB 2.3 MB/s eta 0:00:17\n",
      "   -- ------------------------------------- 2.5/38.6 MB 2.3 MB/s eta 0:00:16\n",
      "   -- ------------------------------------- 2.9/38.6 MB 2.5 MB/s eta 0:00:15\n",
      "   --- ------------------------------------ 3.0/38.6 MB 2.5 MB/s eta 0:00:15\n",
      "   --- ------------------------------------ 3.2/38.6 MB 2.5 MB/s eta 0:00:14\n",
      "   --- ------------------------------------ 3.5/38.6 MB 2.7 MB/s eta 0:00:14\n",
      "   --- ------------------------------------ 3.5/38.6 MB 2.5 MB/s eta 0:00:14\n",
      "   --- ------------------------------------ 3.5/38.6 MB 2.6 MB/s eta 0:00:14\n",
      "   --- ------------------------------------ 3.8/38.6 MB 2.6 MB/s eta 0:00:14\n",
      "   ---- ----------------------------------- 3.9/38.6 MB 2.6 MB/s eta 0:00:14\n",
      "   ---- ----------------------------------- 4.2/38.6 MB 2.8 MB/s eta 0:00:13\n",
      "   ---- ----------------------------------- 4.4/38.6 MB 2.8 MB/s eta 0:00:13\n",
      "   ---- ----------------------------------- 4.6/38.6 MB 2.8 MB/s eta 0:00:12\n",
      "   ----- ---------------------------------- 5.0/38.6 MB 3.0 MB/s eta 0:00:12\n",
      "   ----- ---------------------------------- 5.1/38.6 MB 2.9 MB/s eta 0:00:12\n",
      "   ----- ---------------------------------- 5.5/38.6 MB 3.1 MB/s eta 0:00:11\n",
      "   ----- ---------------------------------- 5.7/38.6 MB 3.1 MB/s eta 0:00:11\n",
      "   ------ --------------------------------- 6.1/38.6 MB 3.3 MB/s eta 0:00:10\n",
      "   ------ --------------------------------- 6.5/38.6 MB 3.4 MB/s eta 0:00:10\n",
      "   ------ --------------------------------- 6.7/38.6 MB 3.4 MB/s eta 0:00:10\n",
      "   ------- -------------------------------- 6.9/38.6 MB 3.4 MB/s eta 0:00:10\n",
      "   ------- -------------------------------- 7.2/38.6 MB 3.5 MB/s eta 0:00:09\n",
      "   ------- -------------------------------- 7.5/38.6 MB 3.5 MB/s eta 0:00:09\n",
      "   -------- ------------------------------- 7.8/38.6 MB 3.6 MB/s eta 0:00:09\n",
      "   -------- ------------------------------- 8.0/38.6 MB 3.7 MB/s eta 0:00:09\n",
      "   -------- ------------------------------- 8.5/38.6 MB 3.8 MB/s eta 0:00:08\n",
      "   --------- ------------------------------ 8.8/38.6 MB 3.8 MB/s eta 0:00:08\n",
      "   --------- ------------------------------ 9.2/38.6 MB 3.9 MB/s eta 0:00:08\n",
      "   --------- ------------------------------ 9.6/38.6 MB 4.0 MB/s eta 0:00:08\n",
      "   ---------- ----------------------------- 9.7/38.6 MB 4.0 MB/s eta 0:00:08\n",
      "   ---------- ----------------------------- 10.1/38.6 MB 4.0 MB/s eta 0:00:08\n",
      "   ---------- ----------------------------- 10.4/38.6 MB 4.4 MB/s eta 0:00:07\n",
      "   ----------- ---------------------------- 10.7/38.6 MB 4.7 MB/s eta 0:00:06\n",
      "   ----------- ---------------------------- 10.7/38.6 MB 4.7 MB/s eta 0:00:06\n",
      "   ----------- ---------------------------- 11.0/38.6 MB 4.8 MB/s eta 0:00:06\n",
      "   ----------- ---------------------------- 11.3/38.6 MB 5.0 MB/s eta 0:00:06\n",
      "   ------------ --------------------------- 11.7/38.6 MB 5.2 MB/s eta 0:00:06\n",
      "   ------------ --------------------------- 12.0/38.6 MB 5.4 MB/s eta 0:00:05\n",
      "   ------------- -------------------------- 12.6/38.6 MB 5.6 MB/s eta 0:00:05\n",
      "   ------------- -------------------------- 13.0/38.6 MB 5.8 MB/s eta 0:00:05\n",
      "   ------------- -------------------------- 13.3/38.6 MB 5.8 MB/s eta 0:00:05\n",
      "   -------------- ------------------------- 13.5/38.6 MB 6.0 MB/s eta 0:00:05\n",
      "   -------------- ------------------------- 13.8/38.6 MB 6.3 MB/s eta 0:00:04\n",
      "   -------------- ------------------------- 14.0/38.6 MB 6.2 MB/s eta 0:00:04\n",
      "   -------------- ------------------------- 14.3/38.6 MB 6.2 MB/s eta 0:00:04\n",
      "   --------------- ------------------------ 14.6/38.6 MB 6.4 MB/s eta 0:00:04\n",
      "   --------------- ------------------------ 14.9/38.6 MB 6.4 MB/s eta 0:00:04\n",
      "   --------------- ------------------------ 15.0/38.6 MB 6.2 MB/s eta 0:00:04\n",
      "   --------------- ------------------------ 15.1/38.6 MB 6.1 MB/s eta 0:00:04\n",
      "   --------------- ------------------------ 15.3/38.6 MB 6.2 MB/s eta 0:00:04\n",
      "   ---------------- ----------------------- 15.5/38.6 MB 6.0 MB/s eta 0:00:04\n",
      "   ---------------- ----------------------- 15.7/38.6 MB 6.2 MB/s eta 0:00:04\n",
      "   ---------------- ----------------------- 16.0/38.6 MB 6.1 MB/s eta 0:00:04\n",
      "   ---------------- ----------------------- 16.3/38.6 MB 6.0 MB/s eta 0:00:04\n",
      "   ----------------- ---------------------- 16.5/38.6 MB 6.0 MB/s eta 0:00:04\n",
      "   ----------------- ---------------------- 16.7/38.6 MB 6.0 MB/s eta 0:00:04\n",
      "   ----------------- ---------------------- 16.9/38.6 MB 6.0 MB/s eta 0:00:04\n",
      "   ----------------- ---------------------- 17.1/38.6 MB 5.8 MB/s eta 0:00:04\n",
      "   ----------------- ---------------------- 17.2/38.6 MB 5.7 MB/s eta 0:00:04\n",
      "   ------------------ --------------------- 17.5/38.6 MB 5.7 MB/s eta 0:00:04\n",
      "   ------------------ --------------------- 17.9/38.6 MB 5.7 MB/s eta 0:00:04\n",
      "   ------------------ --------------------- 18.3/38.6 MB 5.8 MB/s eta 0:00:04\n",
      "   ------------------- -------------------- 18.4/38.6 MB 5.9 MB/s eta 0:00:04\n",
      "   ------------------- -------------------- 18.7/38.6 MB 5.7 MB/s eta 0:00:04\n",
      "   ------------------- -------------------- 19.0/38.6 MB 5.6 MB/s eta 0:00:04\n",
      "   -------------------- ------------------- 19.4/38.6 MB 5.6 MB/s eta 0:00:04\n",
      "   -------------------- ------------------- 19.9/38.6 MB 5.8 MB/s eta 0:00:04\n",
      "   -------------------- ------------------- 20.2/38.6 MB 5.8 MB/s eta 0:00:04\n",
      "   --------------------- ------------------ 20.3/38.6 MB 5.7 MB/s eta 0:00:04\n",
      "   --------------------- ------------------ 20.7/38.6 MB 5.7 MB/s eta 0:00:04\n",
      "   --------------------- ------------------ 21.2/38.6 MB 6.0 MB/s eta 0:00:03\n",
      "   ---------------------- ----------------- 21.7/38.6 MB 6.1 MB/s eta 0:00:03\n",
      "   ---------------------- ----------------- 21.9/38.6 MB 6.0 MB/s eta 0:00:03\n",
      "   ----------------------- ---------------- 22.3/38.6 MB 6.0 MB/s eta 0:00:03\n",
      "   ----------------------- ---------------- 22.7/38.6 MB 6.0 MB/s eta 0:00:03\n",
      "   ----------------------- ---------------- 23.0/38.6 MB 5.9 MB/s eta 0:00:03\n",
      "   ----------------------- ---------------- 23.2/38.6 MB 5.8 MB/s eta 0:00:03\n",
      "   ------------------------ --------------- 23.4/38.6 MB 5.8 MB/s eta 0:00:03\n",
      "   ------------------------ --------------- 23.7/38.6 MB 5.7 MB/s eta 0:00:03\n",
      "   ------------------------- -------------- 24.2/38.6 MB 6.0 MB/s eta 0:00:03\n",
      "   ------------------------- -------------- 24.4/38.6 MB 5.9 MB/s eta 0:00:03\n",
      "   ------------------------- -------------- 24.6/38.6 MB 5.8 MB/s eta 0:00:03\n",
      "   -------------------------- ------------- 25.2/38.6 MB 6.1 MB/s eta 0:00:03\n",
      "   -------------------------- ------------- 25.6/38.6 MB 6.4 MB/s eta 0:00:03\n",
      "   -------------------------- ------------- 26.0/38.6 MB 6.5 MB/s eta 0:00:02\n",
      "   --------------------------- ------------ 26.2/38.6 MB 6.5 MB/s eta 0:00:02\n",
      "   --------------------------- ------------ 26.8/38.6 MB 6.7 MB/s eta 0:00:02\n",
      "   --------------------------- ------------ 26.9/38.6 MB 6.7 MB/s eta 0:00:02\n",
      "   --------------------------- ------------ 27.0/38.6 MB 6.5 MB/s eta 0:00:02\n",
      "   ---------------------------- ----------- 27.2/38.6 MB 6.4 MB/s eta 0:00:02\n",
      "   ---------------------------- ----------- 27.5/38.6 MB 6.8 MB/s eta 0:00:02\n",
      "   ---------------------------- ----------- 27.8/38.6 MB 6.8 MB/s eta 0:00:02\n",
      "   ----------------------------- ---------- 28.4/38.6 MB 6.9 MB/s eta 0:00:02\n",
      "   ----------------------------- ---------- 28.5/38.6 MB 6.8 MB/s eta 0:00:02\n",
      "   ----------------------------- ---------- 28.9/38.6 MB 7.0 MB/s eta 0:00:02\n",
      "   ------------------------------ --------- 29.3/38.6 MB 7.0 MB/s eta 0:00:02\n",
      "   ------------------------------ --------- 29.8/38.6 MB 7.0 MB/s eta 0:00:02\n",
      "   ------------------------------- -------- 30.1/38.6 MB 7.0 MB/s eta 0:00:02\n",
      "   ------------------------------- -------- 30.5/38.6 MB 7.0 MB/s eta 0:00:02\n",
      "   ------------------------------- -------- 30.9/38.6 MB 7.2 MB/s eta 0:00:02\n",
      "   -------------------------------- ------- 31.3/38.6 MB 7.1 MB/s eta 0:00:02\n",
      "   -------------------------------- ------- 31.6/38.6 MB 7.1 MB/s eta 0:00:01\n",
      "   --------------------------------- ------ 31.9/38.6 MB 6.9 MB/s eta 0:00:01\n",
      "   --------------------------------- ------ 32.2/38.6 MB 7.0 MB/s eta 0:00:01\n",
      "   --------------------------------- ------ 32.6/38.6 MB 7.0 MB/s eta 0:00:01\n",
      "   ---------------------------------- ----- 33.2/38.6 MB 7.0 MB/s eta 0:00:01\n",
      "   ---------------------------------- ----- 33.4/38.6 MB 7.0 MB/s eta 0:00:01\n",
      "   ----------------------------------- ---- 33.8/38.6 MB 7.3 MB/s eta 0:00:01\n",
      "   ----------------------------------- ---- 34.2/38.6 MB 7.3 MB/s eta 0:00:01\n",
      "   ----------------------------------- ---- 34.7/38.6 MB 7.6 MB/s eta 0:00:01\n",
      "   ------------------------------------ --- 35.0/38.6 MB 7.5 MB/s eta 0:00:01\n",
      "   ------------------------------------ --- 35.3/38.6 MB 7.4 MB/s eta 0:00:01\n",
      "   ------------------------------------- -- 35.9/38.6 MB 7.4 MB/s eta 0:00:01\n",
      "   ------------------------------------- -- 36.4/38.6 MB 7.6 MB/s eta 0:00:01\n",
      "   ------------------------------------- -- 36.4/38.6 MB 7.4 MB/s eta 0:00:01\n",
      "   ------------------------------------- -- 36.5/38.6 MB 7.3 MB/s eta 0:00:01\n",
      "   -------------------------------------- - 36.9/38.6 MB 7.0 MB/s eta 0:00:01\n",
      "   -------------------------------------- - 37.2/38.6 MB 7.3 MB/s eta 0:00:01\n",
      "   -------------------------------------- - 37.5/38.6 MB 7.5 MB/s eta 0:00:01\n",
      "   -------------------------------------- - 37.6/38.6 MB 7.4 MB/s eta 0:00:01\n",
      "   ---------------------------------------  37.8/38.6 MB 7.4 MB/s eta 0:00:01\n",
      "   ---------------------------------------  38.1/38.6 MB 7.2 MB/s eta 0:00:01\n",
      "   ---------------------------------------  38.4/38.6 MB 7.1 MB/s eta 0:00:01\n",
      "   ---------------------------------------  38.6/38.6 MB 7.0 MB/s eta 0:00:01\n",
      "   ---------------------------------------  38.6/38.6 MB 7.0 MB/s eta 0:00:01\n",
      "   ---------------------------------------  38.6/38.6 MB 7.0 MB/s eta 0:00:01\n",
      "   ---------------------------------------  38.6/38.6 MB 7.0 MB/s eta 0:00:01\n",
      "   ---------------------------------------  38.6/38.6 MB 7.0 MB/s eta 0:00:01\n",
      "   ---------------------------------------- 38.6/38.6 MB 6.2 MB/s eta 0:00:00\n",
      "Installing collected packages: opencv-python\n",
      "Successfully installed opencv-python-4.9.0.80\n"
     ]
    }
   ],
   "source": [
    "!pip install opencv-python"
   ]
  },
  {
   "cell_type": "code",
   "execution_count": 28,
   "id": "3e6d4961-581d-431e-93de-78fb83f0ec04",
   "metadata": {},
   "outputs": [
    {
     "data": {
      "text/plain": [
       "(361, 380, 3)"
      ]
     },
     "execution_count": 28,
     "metadata": {},
     "output_type": "execute_result"
    }
   ],
   "source": [
    "import cv2\n",
    "import numpy as np\n",
    "\n",
    "img = cv2.imread(\"test_img_3.jpg\")\n",
    "\n",
    "# img = cv2.resize(img , (360 , 360))\n",
    "\n",
    "cv2.imshow(\"window\" , img)\n",
    "cv2.waitKey(0)\n",
    "img.shape"
   ]
  },
  {
   "cell_type": "code",
   "execution_count": 13,
   "id": "f5341c21",
   "metadata": {},
   "outputs": [],
   "source": [
    "# function to show the whole list of pictures\n",
    "def output(list):\n",
    "    img_blue , img_green , img_red  = list[0].copy() , list[1].copy() , list[2].copy()\n",
    "    cv2.putText(img_blue , \"Blue channel\" , (20 , 360) , 1, 3 , (0 , 0 , 0) , 2)\n",
    "    cv2.putText(img_green , \"Green channel\" , (20 , 360) , 1, 3 , (0 , 0 , 0) , 2)\n",
    "    cv2.putText(img_red , \"Red channel\" , (50 , 360) , 1, 3 , (0 , 0 , 0 ) , 2)\n",
    "    stack = np.hstack((img_blue , img_green , img_red))\n",
    "    return stack"
   ]
  },
  {
   "cell_type": "code",
   "execution_count": 14,
   "id": "b0ce9096",
   "metadata": {},
   "outputs": [
    {
     "data": {
      "text/plain": [
       "-1"
      ]
     },
     "execution_count": 14,
     "metadata": {},
     "output_type": "execute_result"
    }
   ],
   "source": [
    "# separte into 3 channels\n",
    "colorList = np.array([img[:,:,0] , img[:,:,1] , img[:,:,2]])\n",
    "\n",
    "\n",
    "# outputing the all 3 channel \n",
    "\n",
    "colored_stack = output(colorList)\n",
    "cv2.imshow(\"window\" , colored_stack)\n",
    "cv2.waitKey(0)\n"
   ]
  },
  {
   "cell_type": "code",
   "execution_count": 15,
   "id": "2d93bb7b",
   "metadata": {},
   "outputs": [],
   "source": [
    "# applying 1st order derivative to find (Sobel)\n",
    "itt = 0\n",
    "edgeImgList = []\n",
    "edgeDirList = [0 , 0 , 0]\n",
    "\n",
    "while itt < 3:\n",
    "    sobelX = cv2.Sobel(colorList[itt] , -1 , 1 , 0)\n",
    "    sobelY = cv2.Sobel(colorList[itt] ,-1 , 0 , 1 )\n",
    "    edgeImgList.append(cv2.addWeighted(sobelX , 0.5 , sobelY ,0.5 , 0 ))\n",
    "    itt += 1\n",
    "\n",
    "# output(list=edgeImgList)    \n",
    "\n",
    "sobel_stack = np.hstack((edgeImgList[0] , edgeImgList[1] , edgeImgList[1]))\n",
    "cv2.imshow(\"win\" , sobel_stack)\n",
    "cv2.waitKey(0)\n",
    "\n",
    "templist = edgeImgList\n"
   ]
  },
  {
   "cell_type": "code",
   "execution_count": 16,
   "id": "4395e97a",
   "metadata": {},
   "outputs": [
    {
     "data": {
      "text/plain": [
       "-1"
      ]
     },
     "execution_count": 16,
     "metadata": {},
     "output_type": "execute_result"
    }
   ],
   "source": [
    "# applying thresholding on given cannels\n",
    "itt = 0\n",
    "\n",
    "while itt < 3:\n",
    "    for x in range(0 , colorList[0].shape[0]):\n",
    "        for y in range(0 , colorList[1].shape[1]):\n",
    "            if templist[itt][x][y] > 42:\n",
    "                templist[itt][x][y] = 255\n",
    "            else:\n",
    "                templist[itt][x][y] = 0\n",
    "    itt += 1\n",
    "\n",
    "temp_stack = output(templist)\n",
    "stack = np.vstack((sobel_stack,temp_stack))\n",
    "cv2.imshow(\"win\" , stack)\n",
    "cv2.waitKey(0)\n"
   ]
  },
  {
   "cell_type": "code",
   "execution_count": 17,
   "id": "e718f5be",
   "metadata": {},
   "outputs": [],
   "source": [
    "# applying 1st order derivative to find (Canny)\n",
    "itt = 0\n",
    "cannyList = []\n",
    "\n",
    "while itt < 3:\n",
    "    cannyList.append(cv2.Canny(colorList[0], 50, 100))\n",
    "    itt += 1\n",
    "\n",
    "canny_stack = output(list=cannyList)    \n",
    "\n"
   ]
  },
  {
   "cell_type": "code",
   "execution_count": 18,
   "id": "f58c929c",
   "metadata": {},
   "outputs": [
    {
     "data": {
      "text/plain": [
       "-1"
      ]
     },
     "execution_count": 18,
     "metadata": {},
     "output_type": "execute_result"
    }
   ],
   "source": [
    "# compare sobel and canny\n",
    "\n",
    "stack = np.vstack((sobel_stack,canny_stack))\n",
    "cv2.imshow(\"win\" , stack)\n",
    "cv2.waitKey(0)"
   ]
  },
  {
   "cell_type": "code",
   "execution_count": 29,
   "id": "47ad4a52",
   "metadata": {},
   "outputs": [],
   "source": [
    "# Event lishner to find coordinates of seed point\n",
    "\n",
    "seedPoint = []\n",
    "def  click_event(event , x , y , flags , params):\n",
    "\n",
    "    if event == cv2.EVENT_LBUTTONDOWN:\n",
    "\n",
    "        print(x , \" \" , y)\n",
    "        seedPoint.append(x)\n",
    "        seedPoint.append(y)\n",
    "    \n",
    "\n"
   ]
  },
  {
   "cell_type": "code",
   "execution_count": 30,
   "id": "2f9b125d",
   "metadata": {},
   "outputs": [],
   "source": [
    "# function to find 8-n neighbour of give pixel\n",
    "\n",
    "def n_8(x, y , shape):\n",
    "    n8List = []\n",
    "    maxRangeX = shape[0]\n",
    "    maxRangeY = shape[1]\n",
    "\n",
    "    if x-1 > 0 and y-1>0:\n",
    "        n8List.append((x-1 , y-1))\n",
    "    if x-1> 0:\n",
    "        n8List.append((x-1 , y))\n",
    "    if y-1>0 :\n",
    "        n8List.append((x, y-1))\n",
    "    if x+1 < maxRangeX :\n",
    "        n8List.append((x+1 , y))\n",
    "    if y+1 < maxRangeY :\n",
    "        n8List.append((x , y+1))\n",
    "    if x+1 < maxRangeX and y+1 < maxRangeY:\n",
    "        n8List.append((x+1 , y+1))\n",
    "    if x-1 > 0 and y+1 < maxRangeY:\n",
    "        n8List.append((x-1 , y+1))\n",
    "    if x+1 < maxRangeX and y-1 >0:\n",
    "        n8List.append((x+1 , y-1)) \n",
    "\n",
    "    return n8List\n",
    "\n",
    "\n",
    "    "
   ]
  },
  {
   "cell_type": "code",
   "execution_count": 31,
   "id": "9af501d3",
   "metadata": {},
   "outputs": [],
   "source": [
    "# # function for region growing threshold = 10\n",
    "\n",
    "# def region_grow(img , seedList):\n",
    "#     seedPoint = []\n",
    "#     outputImg = np.zeros_like(img)\n",
    "#     seedPoint.append((seedList[0] , seedList[1]))\n",
    "#     alreadyVisited = []\n",
    "#     print(seedList[0])\n",
    "\n",
    "#     while(len(seedPoint) > 0):\n",
    "#         pixel = seedPoint[0]\n",
    "#         outputImg[pixel[0] , pixel[1]] = 255\n",
    "#         for corr in n_8(pixel[0] , pixel[1] , img.shape):\n",
    "#             if outputImg[corr[0] , corr[1]] != 0:\n",
    "#                 outputImg[corr[0] , corr[1]] = 255\n",
    "#                 if not corr in alreadyVisited:\n",
    "#                     seedPoint.append(corr)\n",
    "#                 alreadyVisited.append(corr)\n",
    "#         seedPoint.pop(0) \n",
    "#         # cv2.imshow(\"porgress\" , outputImg)\n",
    "#         # cv2.waitKey(1)\n",
    "#     return outputImg   \n",
    "\n",
    "\n",
    "        \n"
   ]
  },
  {
   "cell_type": "code",
   "execution_count": 32,
   "id": "18d70f21",
   "metadata": {},
   "outputs": [],
   "source": [
    "def is_simliar(pix , neighbour , threshold):\n",
    "    return abs(int(pix) - int(neighbour)) <= threshold\n",
    "\n",
    "def region_growing(img , seeds , theshold):\n",
    "\n",
    "    outImg = np.zeros_like(img)\n",
    "\n",
    "    region  = set(seeds)\n",
    "\n",
    "    while seeds:\n",
    "\n",
    "        seed = seeds.pop()\n",
    "\n",
    "        x, y = seed[0] , seed[1]\n",
    "\n",
    "        neighbors = n_8(x , y , img.shape)\n",
    "\n",
    "        for nx , ny in neighbors:\n",
    "\n",
    "            if is_simliar(img[x , y] , img[nx , ny] , theshold) and (nx , ny) not in region:\n",
    "                region.add((nx , ny))\n",
    "                outImg[nx , ny] = 255\n",
    "                seeds.append((nx , ny))\n",
    "    \n",
    "    return outImg\n",
    "\n",
    "\n",
    "    \n"
   ]
  },
  {
   "cell_type": "code",
   "execution_count": 33,
   "id": "0c2855d4",
   "metadata": {},
   "outputs": [
    {
     "name": "stdout",
     "output_type": "stream",
     "text": [
      "191   76\n",
      "[(190, 75), (190, 76), (191, 75), (192, 76), (191, 77), (192, 77), (190, 77), (192, 75)]\n"
     ]
    },
    {
     "data": {
      "text/plain": [
       "-1"
      ]
     },
     "execution_count": 33,
     "metadata": {},
     "output_type": "execute_result"
    }
   ],
   "source": [
    "cv2.namedWindow(\"win\")\n",
    "cv2.setMouseCallback(\"win\" , click_event)\n",
    "cv2.imshow(\"win\" , cannyList[0])\n",
    "cv2.waitKey(0)\n",
    "# print(seedPoint)\n",
    "abc = n_8(seedPoint[0] ,seedPoint[1], stack.shape)\n",
    "print(abc)\n",
    "\n",
    "test = []\n",
    "test.append((seedPoint[0] , seedPoint[1]))\n",
    "out = region_growing(colorList[0] , test , 10)\n",
    "cv2.imshow(\"window\" , out)\n",
    "cv2.waitKey(0)\n",
    "\n"
   ]
  },
  {
   "cell_type": "code",
   "execution_count": null,
   "id": "7c4f20e1",
   "metadata": {},
   "outputs": [],
   "source": [
    "# stack = np.vstack((sobel_stack,canny_stack))\n",
    "# cv2.namedWindow(\"win\")\n",
    "# cv2.setMouseCallback(\"win\" , click_event)\n",
    "# cv2.imshow(\"win\" , stack)\n",
    "# cv2.waitKey(0)\n",
    "# print(seedPoint)\n",
    "# print(n_8(seedPoint[0] ,seedPoint[1], stack.shape))\n"
   ]
  },
  {
   "cell_type": "code",
   "execution_count": null,
   "id": "99f2a4e1",
   "metadata": {},
   "outputs": [
    {
     "name": "stdout",
     "output_type": "stream",
     "text": [
      "15   11\n",
      "[(14, 10), (14, 11), (15, 10), (16, 11), (15, 12), (16, 12), (14, 12), (16, 10)]\n"
     ]
    }
   ],
   "source": [
    "# cv2.namedWindow(\"win\")\n",
    "# cv2.setMouseCallback(\"win\" , click_event)\n",
    "# cv2.imshow(\"win\" , cannyList[0])\n",
    "# cv2.waitKey(0)\n",
    "# # print(seedPoint)\n",
    "# abc = n_8(seedPoint[0] ,seedPoint[1], stack.shape)\n",
    "# print(abc)\n",
    "\n"
   ]
  },
  {
   "cell_type": "code",
   "execution_count": null,
   "id": "1791af29",
   "metadata": {},
   "outputs": [
    {
     "name": "stdout",
     "output_type": "stream",
     "text": [
      "15\n"
     ]
    },
    {
     "data": {
      "text/plain": [
       "-1"
      ]
     },
     "execution_count": 35,
     "metadata": {},
     "output_type": "execute_result"
    }
   ],
   "source": [
    "# out = region_grow(colorList[0] , seedPoint)\n",
    "# cv2.imshow(\"window\" , out)\n",
    "# cv2.waitKey(0)"
   ]
  },
  {
   "cell_type": "code",
   "execution_count": null,
   "id": "82a05024",
   "metadata": {},
   "outputs": [],
   "source": []
  },
  {
   "cell_type": "code",
   "execution_count": null,
   "id": "5800dfec",
   "metadata": {},
   "outputs": [],
   "source": []
  }
 ],
 "metadata": {
  "kernelspec": {
   "display_name": "Python 3 (ipykernel)",
   "language": "python",
   "name": "python3"
  },
  "language_info": {
   "codemirror_mode": {
    "name": "ipython",
    "version": 3
   },
   "file_extension": ".py",
   "mimetype": "text/x-python",
   "name": "python",
   "nbconvert_exporter": "python",
   "pygments_lexer": "ipython3",
   "version": "3.11.7"
  }
 },
 "nbformat": 4,
 "nbformat_minor": 5
}
